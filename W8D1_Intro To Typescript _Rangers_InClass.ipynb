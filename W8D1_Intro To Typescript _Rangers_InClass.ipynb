{
 "cells": [
  {
   "cell_type": "markdown",
   "id": "c784c0eb",
   "metadata": {},
   "source": [
    "# Week 8 Day 1 TypeScript"
   ]
  },
  {
   "cell_type": "markdown",
   "id": "1a814339",
   "metadata": {},
   "source": [
    "[Intro To TS](#intro)<br>\n",
    "&emsp;[JS Built-in Types](#built)<br>\n",
    "&emsp;[Declaration](#declare)<br>\n",
    "&emsp;[Exercise #1](#ice1)<br>\n",
    "&emsp;[Implicit Types](#itype)<br>\n",
    "&emsp;[Arrays](#array)<br>\n",
    "&emsp;[Exercise #2](#ice2)<br>\n",
    "&emsp;[Exercise #3](#ice3)<br>\n",
    "&emsp;[Functions](#func)<br>\n",
    "&emsp;&emsp;[Return](#return)<br>\n",
    "&emsp;&emsp;[Exercise #4](#ice4)<br>\n",
    "&emsp;&emsp;[Arrow Functions](#arrow)<br>\n",
    "&emsp;&emsp;[Exercise #5](#ice5)<br>\n",
    "&emsp;&emsp;[Void](#void)<br>\n",
    "&emsp;&emsp;[Exercise #6](#ice6)<br>\n",
    "&emsp;[TS Built-in Types](#tstypes)<br>\n",
    "&emsp;&emsp;[any](#any)<br>\n",
    "&emsp;&emsp;[Exercise #7](#ice7)<br>\n",
    "&emsp;&emsp;[Tuple](#tuple)<br>\n",
    "&emsp;&emsp;[Exercise #8](#ice8)<br>\n",
    "&emsp;&emsp;[Enum](#enum)<br>\n",
    "&emsp;&emsp;[Exercise #9](#ice9)<br>\n",
    "&emsp;&emsp;[Unknown](#unknown)<br>\n",
    "&emsp;&emsp;[Type Guards](#guard)<br>\n",
    "&emsp;&emsp;[Exercise #10](#ice10)<br>\n",
    "&emsp;&emsp;[never](#never)<br>\n",
    "&emsp;[Objects](#obj)<br>\n",
    "&emsp;&emsp;[Exercise #11](#ice11)<br>\n",
    "&emsp;&emsp;[Type Alias](#type)<br>\n",
    "&emsp;&emsp;[Exercise #12](#ice12)<br>\n",
    "&emsp;&emsp;[readonly](#readonly)<br>\n",
    "&emsp;&emsp;[Optional Chaining](#opt)<br>\n",
    "&emsp;&emsp;[Objects with Methods](#objmeth)<br>\n",
    "&emsp;&emsp;[Exercise #13](#ice13)<br>\n",
    "&emsp;&emsp;[Union Types](#union)<br>\n",
    "&emsp;&emsp;[Exercise #14](#ice14)<br>\n",
    "&emsp;[as Keyword](#as)<br>\n",
    "&emsp;[Intersection Types](#intersec)<br>\n",
    "&emsp;[Exercise #15](#ice15)<br>\n",
    "&emsp;[Literal Types](#literal)<br>\n",
    "&emsp;[Exercise #16](#ice16)<br>\n",
    "&emsp;[Non-null assertion operator](#nnao)<br>\n",
    "&emsp;[Homework](#hw)<br>\n"
   ]
  },
  {
   "cell_type": "markdown",
   "id": "99033056",
   "metadata": {},
   "source": [
    "<a id=\"intro\"></a>\n",
    "# Intro To TypeScript"
   ]
  },
  {
   "cell_type": "markdown",
   "id": "69d858f0",
   "metadata": {},
   "source": [
    "TypeScript was developed in 2012 by Microsoft. As of Early 2023 the most current TypeScript version is 4.9, with 5.0 being in beta. (This notebook uses 4.1) TypeScript is what’s called a superset of JavaScript, meaning it encompasses everything that is JavaScript and it includes even more features.\n",
    "\n",
    "Typescript’s main feature is that it adds static typing to Vanilla JS.  JavaScript (and python) are called dynamically type languages, this means the data type of the variables isn't determined until runtime.  This is a recipe for disaster in complex applications.  When working with a dynamically typed language the errors don't show up until you try using your program and something goes wrong.  This makes finding and preventing errors a hassle.  Enter TypeScript, with a statically type language (like C++/Java/C#) the datatypes of the variables are declared and known at compile time (or before you actually run the program.)  That means, when you go to compile your code, you will get errors before ever running the program.  This also helps the itellisense (how VSCode or Jupyter Notebook gives you hints on methods and properties) know what options to give.  This makes the programmers life much easier.\n",
    "\n",
    "When you write a TypeScript (.ts) file you must compile that TS code.  The TS code is read by your computer and it compiles the TS code into new JavaScript files (.js).  This is the compilation step that will give you the type checking errors.  Once it is compiled into JS you can run the JS file like any other JS file.  You will also get a TS config file, in where, you can specify lots of rules that can change how TS checks your TS files. When working in Jupyter Notebook with the TS kernel, you won't see this compilation step however it is happening in the background.\n"
   ]
  },
  {
   "cell_type": "markdown",
   "id": "df8021ee",
   "metadata": {},
   "source": [
    "<a id=\"built\"></a>\n",
    "\n",
    "## Built-in Types"
   ]
  },
  {
   "cell_type": "markdown",
   "id": "ecf83965",
   "metadata": {},
   "source": [
    "JavaScript has seven built-in types: <b>null</b> , <b>undefined</b> , <b>boolean</b> , <b>number</b> , <b>string</b> , <b>object</b> , and <b>symbol</b> \n",
    "\n",
    "You should know these types already, except for symbol (don't worry about symbol)"
   ]
  },
  {
   "cell_type": "markdown",
   "id": "2cee95be",
   "metadata": {},
   "source": [
    "<a id=\"declare\"></a>\n",
    "\n",
    "### Declaring"
   ]
  },
  {
   "cell_type": "markdown",
   "id": "852344b1",
   "metadata": {},
   "source": [
    "When declaring a variable you can set its type explicitly by adding a `:` then the name of the class.\n",
    "\n",
    "<b>Note:</b> The types are lower cased, Number and number and Boolean and boolean are not the same and will cause issues"
   ]
  },
  {
   "cell_type": "code",
   "execution_count": 23,
   "id": "84c87738",
   "metadata": {},
   "outputs": [],
   "source": [
    "// arming our variables aka declaring them but not setting them equal to anything\n",
    "// We are declaring but not assigning a value just a type (or no type in the first example)\n",
    "let captainPoopyPants //this has no type associated with it YET \n",
    "\n",
    "// these ones we assigned a type but not a value\n",
    "let typeString: string\n",
    "let typeNumber: number\n",
    "let typeBool: boolean\n",
    "let typeObj: object\n",
    "let typeNull: null\n",
    "let typeUndefined: undefined \n",
    "\n",
    "// ^ how we declare and set the types "
   ]
  },
  {
   "cell_type": "markdown",
   "id": "26edd04a",
   "metadata": {},
   "source": [
    "Without a type annotation we can reassign `anyType` to any type of variable"
   ]
  },
  {
   "cell_type": "code",
   "execution_count": 5,
   "id": "8fb2d8ed",
   "metadata": {},
   "outputs": [
    {
     "name": "stdout",
     "output_type": "stream",
     "text": [
      "\u001b[33mtrue\u001b[39m\n"
     ]
    }
   ],
   "source": [
    "anyType = \"Alex\"\n",
    "anyType = 1\n",
    "anyType = true"
   ]
  },
  {
   "cell_type": "code",
   "execution_count": 11,
   "id": "f61d2067-fd11-4eaf-845f-ffff15e9464d",
   "metadata": {},
   "outputs": [
    {
     "name": "stdout",
     "output_type": "stream",
     "text": [
      "\u001b[33mtrue\u001b[39m\n"
     ]
    }
   ],
   "source": [
    "captainPoopyPants = \"Me\"\n",
    "captainPoopyPants = true"
   ]
  },
  {
   "cell_type": "code",
   "execution_count": 6,
   "id": "9042f262",
   "metadata": {
    "scrolled": true
   },
   "outputs": [
    {
     "name": "stderr",
     "output_type": "stream",
     "text": [
      "1:1 - Type 'number' is not assignable to type 'string'.\n"
     ]
    }
   ],
   "source": [
    "typeString = 11 //Error"
   ]
  },
  {
   "cell_type": "code",
   "execution_count": 7,
   "id": "4e57aa71",
   "metadata": {},
   "outputs": [
    {
     "name": "stdout",
     "output_type": "stream",
     "text": [
      "I promise I am a string\n"
     ]
    }
   ],
   "source": [
    "typeString = 'I promise I am a string'"
   ]
  },
  {
   "cell_type": "code",
   "execution_count": 12,
   "id": "808d8249",
   "metadata": {},
   "outputs": [
    {
     "name": "stderr",
     "output_type": "stream",
     "text": [
      "1:1 - Type '\"I am also a string\"' is not assignable to type 'null'.\n"
     ]
    }
   ],
   "source": [
    "typeNull = 'I am also a string' //Error"
   ]
  },
  {
   "cell_type": "code",
   "execution_count": 13,
   "id": "2f762215",
   "metadata": {},
   "outputs": [],
   "source": [
    "typeNull = null"
   ]
  },
  {
   "cell_type": "markdown",
   "id": "e4699b54",
   "metadata": {},
   "source": [
    "<a id=\"ice1\"></a>\n",
    "\n",
    "## In-Class Exercise #1"
   ]
  },
  {
   "cell_type": "markdown",
   "id": "7ae0f3fc",
   "metadata": {},
   "source": [
    "In the cells provided declare 3 variables `iceString` of type string `iceNumber` of type number `iceBool` of type boolean\n",
    "Then on seperate line assign those variables values of an appropriate"
   ]
  },
  {
   "cell_type": "code",
   "execution_count": null,
   "id": "864f1ac6",
   "metadata": {},
   "outputs": [],
   "source": [
    "let iceString: string\n",
    "let iceNumber: number\n",
    "let iceBool: boolean"
   ]
  },
  {
   "cell_type": "markdown",
   "id": "14929242",
   "metadata": {},
   "source": [
    "<a id=\"itype\"></a>\n",
    "\n",
    "## Implicit Type Declaration"
   ]
  },
  {
   "cell_type": "markdown",
   "id": "a1e67024",
   "metadata": {},
   "source": [
    "When you declare and intialize a variable with TypeScript, it will implicitly add the type declaration for you"
   ]
  },
  {
   "cell_type": "code",
   "execution_count": 28,
   "id": "e8e40339",
   "metadata": {},
   "outputs": [],
   "source": [
    "// We can also implicitly declare types\n",
    "//We didn't explicity give this a type by : string[]\n",
    "// im declaring and assigning my variable with a specific type it ALWAYS has to be that type\n",
    "let implictlyTypedArray: string[] = ['William', 'Ryan', 'Alex', 'Liz', 'Justin']"
   ]
  },
  {
   "cell_type": "code",
   "execution_count": 25,
   "id": "2e7de6bf",
   "metadata": {},
   "outputs": [
    {
     "name": "stderr",
     "output_type": "stream",
     "text": [
      "1:1 - Type 'string' is not assignable to type 'string[]'.\n"
     ]
    }
   ],
   "source": [
    "implictlyTypedArray = 'Now I am somebody else'"
   ]
  },
  {
   "cell_type": "code",
   "execution_count": 26,
   "id": "65915001",
   "metadata": {
    "scrolled": true
   },
   "outputs": [
    {
     "name": "stderr",
     "output_type": "stream",
     "text": [
      "1:24 - Type 'number' is not assignable to type 'string'.\n",
      "1:27 - Type 'number' is not assignable to type 'string'.\n",
      "1:30 - Type 'number' is not assignable to type 'string'.\n",
      "1:33 - Type 'number' is not assignable to type 'string'.\n"
     ]
    }
   ],
   "source": [
    "implictlyTypedArray = [1, 2, 3, 5]"
   ]
  },
  {
   "cell_type": "markdown",
   "id": "3a8aa3f9",
   "metadata": {},
   "source": [
    "The above example shows the `implicitlyTypedArray` was not declared to as an array (of strings) but TypeScript implicitly typed it based on the initial state of  `[\"Na na na na\", \"na na na na\",\"hey hey\", \"Goodbye\"]`"
   ]
  },
  {
   "cell_type": "markdown",
   "id": "2c8d8847",
   "metadata": {},
   "source": [
    "<a id=\"array\"></a>\n",
    "\n",
    "## Array typing"
   ]
  },
  {
   "cell_type": "markdown",
   "id": "e5508c4a",
   "metadata": {},
   "source": [
    "Arrays in TS need to be type set to an array, but not just and array, and arrays must declare the datatype of its member elements.  To do this we add the datatype of the elements in the array followed by `[]`.  Typically we only put the same datatype in an array."
   ]
  },
  {
   "cell_type": "code",
   "execution_count": 30,
   "id": "55767d2e",
   "metadata": {},
   "outputs": [],
   "source": [
    "// we can assign an array type full of a certain data type using [] and then type before [] (e.g. string[] is a list/array full of strings)\n",
    "let implictlyTypedArray: string[] = ['William', 'Ryan', 'Alex', 'Liz', 'Justin']"
   ]
  },
  {
   "cell_type": "code",
   "execution_count": 43,
   "id": "b3f874fc",
   "metadata": {},
   "outputs": [],
   "source": [
    "let multipleTypedArray: [number, string, boolean, null]"
   ]
  },
  {
   "cell_type": "code",
   "execution_count": 45,
   "id": "25606eeb",
   "metadata": {},
   "outputs": [
    {
     "name": "stdout",
     "output_type": "stream",
     "text": [
      "[ \u001b[33m1\u001b[39m, \u001b[32m'hello'\u001b[39m, \u001b[33mtrue\u001b[39m, \u001b[1mnull\u001b[22m ]\n"
     ]
    }
   ],
   "source": [
    "multipleTypedArray = [1, 'hello', true, null]"
   ]
  },
  {
   "cell_type": "code",
   "execution_count": 41,
   "id": "ffb2aeab-0b5c-417e-b70e-6ddebd9addca",
   "metadata": {},
   "outputs": [
    {
     "name": "stderr",
     "output_type": "stream",
     "text": [
      "1:23 - Type 'string' is not assignable to type 'number'.\n",
      "1:32 - Type 'number' is not assignable to type 'string'.\n",
      "1:35 - Type 'number' is not assignable to type 'boolean'.\n",
      "1:39 - Type 'true' is not assignable to type 'null'.\n"
     ]
    }
   ],
   "source": [
    "multipleTypedArray = ['howdy', 5, 10, true]"
   ]
  },
  {
   "cell_type": "markdown",
   "id": "ada55e5b",
   "metadata": {},
   "source": [
    "<a id=\"ice2\"></a>\n",
    "\n",
    "## In-Class Exercise #2"
   ]
  },
  {
   "cell_type": "markdown",
   "id": "6ed0adaf",
   "metadata": {},
   "source": [
    "Create an array of nulls using explicit type checking called `arrayOfNulls`"
   ]
  },
  {
   "cell_type": "code",
   "execution_count": 42,
   "id": "df7993e8",
   "metadata": {},
   "outputs": [],
   "source": [
    "let arrayOfNulls: null[]"
   ]
  },
  {
   "cell_type": "raw",
   "id": "8b49c066-3596-4e5f-8a57-528c01739632",
   "metadata": {},
   "source": [
    "arrayOfNulls = [null, null]"
   ]
  },
  {
   "cell_type": "markdown",
   "id": "59738550",
   "metadata": {},
   "source": [
    "#### Multiple Datatypes in Array"
   ]
  },
  {
   "cell_type": "markdown",
   "id": "1c8b011c",
   "metadata": {},
   "source": [
    "We usually avoid putting multiple data types in an array if there is more than 2 elements because it gets hard to read and use.  If we want to do this we put inside bracket we state the datatype for each index of the array like so\n",
    "\n",
    "`let myVar:[datatypeOfIndex1, datatypeOfIndex2, datatypeOfIndex3, datatypeOfIndex4 ..ect]`"
   ]
  },
  {
   "cell_type": "code",
   "execution_count": null,
   "id": "d752818b",
   "metadata": {},
   "outputs": [],
   "source": [
    "// see above"
   ]
  },
  {
   "cell_type": "code",
   "execution_count": null,
   "id": "659f4eaf",
   "metadata": {},
   "outputs": [],
   "source": [
    "// see above"
   ]
  },
  {
   "cell_type": "markdown",
   "id": "bba79970",
   "metadata": {},
   "source": [
    "The Order of the elements is critical"
   ]
  },
  {
   "cell_type": "code",
   "execution_count": null,
   "id": "63a6cbce",
   "metadata": {
    "scrolled": true
   },
   "outputs": [],
   "source": [
    "// see above"
   ]
  },
  {
   "cell_type": "markdown",
   "id": "ac4fb2d4",
   "metadata": {},
   "source": [
    "#### Multiple elements of unknown Length"
   ]
  },
  {
   "cell_type": "markdown",
   "id": "7886ecbb",
   "metadata": {},
   "source": [
    "What if the array's first element is a string and then we have an unknown about of numbers?\n",
    "\n",
    "We will use the spread operator to say the second member of the array is an unpacked number array"
   ]
  },
  {
   "cell_type": "code",
   "execution_count": 46,
   "id": "c37b74ae",
   "metadata": {},
   "outputs": [],
   "source": [
    "// using our friend the spread operator which is very similar to args* in Python \n",
    "// spread operator syntax is ... \n",
    "// spread operator similar to args* aka we can have ANY number of arguments\n",
    "\n",
    "let unknownTypedArray: [string, ...number[]]"
   ]
  },
  {
   "cell_type": "code",
   "execution_count": 48,
   "id": "a1b97107",
   "metadata": {
    "scrolled": true
   },
   "outputs": [
    {
     "name": "stdout",
     "output_type": "stream",
     "text": [
      "[ \u001b[32m'Johnny'\u001b[39m, \u001b[33m1\u001b[39m, \u001b[33m5\u001b[39m, \u001b[33m11\u001b[39m, \u001b[33m27\u001b[39m, \u001b[33m99\u001b[39m, \u001b[33m101\u001b[39m, \u001b[33m2\u001b[39m ]\n"
     ]
    }
   ],
   "source": [
    "unknownTypedArray = ['Johnny', 1, 5, 11, 27, 99, 101, 2]"
   ]
  },
  {
   "cell_type": "markdown",
   "id": "d0f22cb4",
   "metadata": {},
   "source": [
    "<strong>Note:</strong> This style means there could also be nothing in our unpacked number array, so the second index becomes optional"
   ]
  },
  {
   "cell_type": "code",
   "execution_count": 49,
   "id": "d424bc5a",
   "metadata": {
    "scrolled": true
   },
   "outputs": [
    {
     "name": "stdout",
     "output_type": "stream",
     "text": [
      "[ \u001b[32m'Liz'\u001b[39m ]\n"
     ]
    }
   ],
   "source": [
    "unknownTypedArray = ['Liz']"
   ]
  },
  {
   "cell_type": "markdown",
   "id": "10d54c77",
   "metadata": {},
   "source": [
    "<a id=\"ice3\"></a>\n",
    "\n",
    "## In-Class Exercise #3"
   ]
  },
  {
   "cell_type": "markdown",
   "id": "89ed8797",
   "metadata": {},
   "source": [
    "Create an array that starts with one number and then can hold any number of booleans and name it `stringBoolsArray` and assign it some values"
   ]
  },
  {
   "cell_type": "code",
   "execution_count": 56,
   "id": "fc3ae1df",
   "metadata": {},
   "outputs": [],
   "source": [
    "let stringBoolsArray: [number, ...boolean[] ] "
   ]
  },
  {
   "cell_type": "code",
   "execution_count": 53,
   "id": "fc142e85-cc66-4a54-87d4-1b3d21c6bb43",
   "metadata": {},
   "outputs": [
    {
     "name": "stdout",
     "output_type": "stream",
     "text": [
      "[ \u001b[33m1\u001b[39m, \u001b[33mtrue\u001b[39m, \u001b[33mfalse\u001b[39m, \u001b[1mnull\u001b[22m, \u001b[33mtrue\u001b[39m ]\n"
     ]
    }
   ],
   "source": [
    "stringBoolsArray = [1, true, false, null, true]"
   ]
  },
  {
   "cell_type": "markdown",
   "id": "cba4150c",
   "metadata": {},
   "source": [
    "<a id=\"func\"></a>\n",
    "\n",
    "## TS and Intellisense, and Functions"
   ]
  },
  {
   "cell_type": "markdown",
   "id": "6acc3d76",
   "metadata": {},
   "source": [
    "Typescript helps you with itellisense.  In Jupyter notebook you can press tab after writing a dot to see the availible methods.  This only works if the itellisense can determine what the datatype of the variable is.  Typescript introduces static typing to JS, so when using proper TS techniques the itellisense will know the type of data being past.\n",
    "\n",
    "Consider the examples below.  The first example is without static type checking.  note when you type `name.` and press `tab` you get no suggestions; This tells you that the compiler does not know the type of the name variable.\n",
    "\n",
    "Looking at the second example we annotate the name parameter to be of type string, now when you press tab after the `name.` you will see a list of availible string methods and properties.\n"
   ]
  },
  {
   "cell_type": "code",
   "execution_count": 59,
   "id": "730796c7",
   "metadata": {},
   "outputs": [],
   "source": [
    "// regular smegular JS function\n",
    "\n",
    "function nameLower(name) {\n",
    "    name = name.toLowerCase()\n",
    "    return name\n",
    "}"
   ]
  },
  {
   "cell_type": "code",
   "execution_count": 58,
   "id": "2c64ee49",
   "metadata": {},
   "outputs": [],
   "source": [
    "// do this in TS and it's going to help me out with the methods & attributes I have available per the type\n",
    "\n",
    "function nameLower(name:string) {\n",
    "    name = name.toLowerCase()\n",
    "    return name\n",
    "}\n"
   ]
  },
  {
   "cell_type": "markdown",
   "id": "fee91c7d",
   "metadata": {},
   "source": [
    "<a id=\"return\"></a>\n",
    "\n",
    "## Declaring a Return Type"
   ]
  },
  {
   "cell_type": "markdown",
   "id": "681133b4",
   "metadata": {},
   "source": [
    "Now lets use the returned string with and without return type annonations."
   ]
  },
  {
   "cell_type": "markdown",
   "id": "9477198d",
   "metadata": {},
   "source": [
    "Using the same example we will see that the compiler knows the data type of name, once again we can easily verify this my trying the tab key."
   ]
  },
  {
   "cell_type": "code",
   "execution_count": 65,
   "id": "2da7c6b1",
   "metadata": {},
   "outputs": [
    {
     "name": "stdout",
     "output_type": "stream",
     "text": [
      "test2\n"
     ]
    }
   ],
   "source": [
    "// didn't declare any types anywhere so all implicit\n",
    "function nameLower(name) {\n",
    "    name = name.toLowerCase()\n",
    "    return name + 2\n",
    "}\n",
    "\n",
    "nameLower('test')"
   ]
  },
  {
   "cell_type": "markdown",
   "id": "7635d908",
   "metadata": {},
   "source": [
    "The compiler knows this is a string because we passed in a string and didn't do anything that may change its data type"
   ]
  },
  {
   "cell_type": "markdown",
   "id": "cb1280d2",
   "metadata": {},
   "source": [
    "Let's try to confuse the compilier by adding an integer to our string.  This will cause the compiler not to know what the data type of our return is, once again we can test by press tab after the dot"
   ]
  },
  {
   "cell_type": "code",
   "execution_count": null,
   "id": "8f423783",
   "metadata": {},
   "outputs": [],
   "source": []
  },
  {
   "cell_type": "markdown",
   "id": "754274c7",
   "metadata": {},
   "source": [
    "#### Explicit Return Type"
   ]
  },
  {
   "cell_type": "markdown",
   "id": "154bf2b0",
   "metadata": {},
   "source": [
    "Lets annotate the return type of this function, we will see now the compiler and our itellisense knows the return of the function is a string\n",
    "\n",
    "To annotate a return type on a regular function it looks like:\n",
    "```\n",
    "function funcName(params):ReturnType{}\n",
    "```"
   ]
  },
  {
   "cell_type": "code",
   "execution_count": 76,
   "id": "44330f07",
   "metadata": {},
   "outputs": [
    {
     "name": "stdout",
     "output_type": "stream",
     "text": [
      "5\n"
     ]
    }
   ],
   "source": [
    "// inside parenthesis is parameter type, after parenthesis is return type\n",
    "function nameLower(name:string):string {\n",
    "    name = name.toLowerCase()\n",
    "    return name //return type is string\n",
    "}\n",
    "\n",
    "nameLower('5')"
   ]
  },
  {
   "cell_type": "markdown",
   "id": "880028a5",
   "metadata": {},
   "source": [
    "<a id=\"ice4\"></a>\n",
    "\n",
    "## In-Class Exercise #4"
   ]
  },
  {
   "cell_type": "markdown",
   "id": "55b41583",
   "metadata": {},
   "source": [
    "Create a regular function that takes in two numbers and returns a string that says.\n",
    "```[firstnumber] plus [secondNumber] equals [FirstNumber plus SecondNumber]```\n",
    "\n",
    "Name the function `iceAddition`\n",
    "\n",
    "if we run `iceAddition(2,5)`\n",
    "\n",
    "the output should be :\n",
    "\n",
    "```\n",
    "\"2 plus 5 equals 7\"\n",
    "```\n",
    "\n",
    "Use Explicit type checking on the parameters and return type"
   ]
  },
  {
   "cell_type": "code",
   "execution_count": 82,
   "id": "de836e1e",
   "metadata": {},
   "outputs": [
    {
     "name": "stdout",
     "output_type": "stream",
     "text": [
      "2 plus 5 equals 7\n"
     ]
    }
   ],
   "source": [
    "function iceAddition(num1: number, num2: number):string {\n",
    "    let str = \"\" //implicitly giving this a string type\n",
    "    let total = num1 + num2 //still a number type \n",
    "    str = num1 + \" plus \" + num2 + \" equals \" + total\n",
    "    return str\n",
    "}\n",
    "\n",
    "iceAddition(2, 5)"
   ]
  },
  {
   "cell_type": "markdown",
   "id": "77a2626d",
   "metadata": {},
   "source": [
    "<a id=\"arrow\"></a>\n",
    "\n",
    "## Arrow Functions"
   ]
  },
  {
   "cell_type": "markdown",
   "id": "51517966",
   "metadata": {},
   "source": [
    "To annotate a return type on an arrow function it looks like:\n",
    "```\n",
    "const funcName=(params):ReturnType=>{}\n",
    "```"
   ]
  },
  {
   "cell_type": "code",
   "execution_count": 86,
   "id": "708cb933",
   "metadata": {},
   "outputs": [
    {
     "name": "stdout",
     "output_type": "stream",
     "text": [
      "ALEX SWIGGUM\n"
     ]
    }
   ],
   "source": [
    "const nameUpper = (name:string):string => {\n",
    "    name = name.toUpperCase()\n",
    "    return name\n",
    "}\n",
    "\n",
    "nameUpper('alex SwiggUm')"
   ]
  },
  {
   "cell_type": "markdown",
   "id": "65f8eaf8",
   "metadata": {},
   "source": [
    "<a id=\"ice5\"></a>\n",
    "\n",
    "## In-Class Exercise #5"
   ]
  },
  {
   "cell_type": "markdown",
   "id": "d9a493fc",
   "metadata": {},
   "source": [
    "Create an Arrow function that takes in two numbers and returns a string that says.\n",
    "```[firstnumber] plus [secondNumber] equals [FirstNumber plus SecondNumber]```\n",
    "\n",
    "Name the function `iceAdditionArrow`\n",
    "\n",
    "if we run `iceAdditionArrow(2,5)`\n",
    "\n",
    "the output should be :\n",
    "\n",
    "```\n",
    "\"2 plus 5 equals 7\"\n",
    "```\n",
    "\n",
    "Use Explicit type checking on the parameters and return type"
   ]
  },
  {
   "cell_type": "code",
   "execution_count": 87,
   "id": "96c35d0e",
   "metadata": {},
   "outputs": [
    {
     "name": "stdout",
     "output_type": "stream",
     "text": [
      "2 plus 5 equals 7\n"
     ]
    }
   ],
   "source": [
    "// first we are storing a function to variable iceAdditionArrow\n",
    "// arrow function that takes in 2 parameters\n",
    "// firstnumber of number type\n",
    "// second is secondnumber of number type\n",
    "// outside/after the parenthesis defines the return type which is a string\n",
    "\n",
    "// arrowfunction/anonymous syntax\n",
    "const iceAdditionArrow = (firstnumber: number, secondnumber: number):string => {\n",
    "    \n",
    "    return `${firstnumber} plus ${secondnumber} equals ${firstnumber + secondnumber}`\n",
    "}\n",
    "\n",
    "// regularly named function syntax\n",
    "// function iceAdditionArrow(firstnumber:number, secondnumber:number):string {}\n",
    "\n",
    "iceAdditionArrow(2,5)"
   ]
  },
  {
   "cell_type": "markdown",
   "id": "1f52b380",
   "metadata": {},
   "source": [
    "<a id=\"void\"></a>\n",
    "\n",
    "### Void Type"
   ]
  },
  {
   "cell_type": "markdown",
   "id": "c8179f7c",
   "metadata": {},
   "source": [
    "Often our function return nothing, for this we can use the void type.  The term void to represent function without returns is ubiquitous in all languages.\n",
    "\n",
    "Note: returning `null` or `undefined` statisfies void "
   ]
  },
  {
   "cell_type": "code",
   "execution_count": 88,
   "id": "080efc5e",
   "metadata": {},
   "outputs": [
    {
     "name": "stdout",
     "output_type": "stream",
     "text": [
      "Hello Paula Abdul\n"
     ]
    }
   ],
   "source": [
    "//this function doesn't return anything thats why it has a void return type\n",
    "function sayHello(name:string):void {\n",
    "    console.log(\"Hello\", name)\n",
    "}\n",
    "\n",
    "sayHello('Paula Abdul')"
   ]
  },
  {
   "cell_type": "code",
   "execution_count": 89,
   "id": "4b652b58",
   "metadata": {
    "scrolled": true
   },
   "outputs": [
    {
     "name": "stderr",
     "output_type": "stream",
     "text": [
      "3:5 - Type 'string' is not assignable to type 'void'.\n"
     ]
    }
   ],
   "source": [
    "function sayHello(name:string):void {\n",
    "    console.log(\"Hello\", name)\n",
    "    return name\n",
    "}\n",
    "\n",
    "sayHello('Paula Abdul')"
   ]
  },
  {
   "cell_type": "markdown",
   "id": "5378bd0e",
   "metadata": {},
   "source": [
    "<a id=\"ice6\"></a>\n",
    "\n",
    "## In-Class Exercise #6"
   ]
  },
  {
   "cell_type": "markdown",
   "id": "ed8466f0",
   "metadata": {},
   "source": [
    "Create an arrow function that is named `iceVoid` and have that function print:\n",
    "\n",
    "`If I have a void I have nothing`\n",
    "\n",
    "Be sure to explicity type the function's return"
   ]
  },
  {
   "cell_type": "code",
   "execution_count": 105,
   "id": "e3119b22",
   "metadata": {},
   "outputs": [
    {
     "name": "stdout",
     "output_type": "stream",
     "text": [
      "If I have a void I have nothing\n"
     ]
    }
   ],
   "source": [
    "const iceVoid = (): void => {\n",
    "    console.log(\"If I have a void I have nothing\")\n",
    "}\n",
    "iceVoid()\n",
    "\n",
    "\n",
    "//same as \n",
    "// my_variable = lambda: \"If I have a void I have nothing\""
   ]
  },
  {
   "cell_type": "markdown",
   "id": "bac8ca87",
   "metadata": {},
   "source": [
    "<a id=\"tstypes\"></a>\n",
    "\n",
    "## TypeScript Built in Types"
   ]
  },
  {
   "cell_type": "markdown",
   "id": "8e366edd",
   "metadata": {},
   "source": [
    "We have already mentioned JavaScript has seven built-in types: <b>null</b> , <b>undefined</b> , <b>boolean</b> , <b>number</b> , <b>string</b> , <b>object</b> , and <b>symbol</b> \n",
    "\n",
    "TypeScript adds to these types with: <b>unknown</b>, <b>any</b>, <b>tuple</b>, <b>enum</b>,<b> never</b> and more.\n",
    "\n",
    "Reference: [https://www.typescriptlang.org/docs/handbook/2/everyday-types.html]('https://www.typescriptlang.org/docs/handbook/2/everyday-types.html')"
   ]
  },
  {
   "cell_type": "markdown",
   "id": "df11c56e",
   "metadata": {},
   "source": [
    "<a id=\"any\"></a>\n",
    "\n",
    "### any type"
   ]
  },
  {
   "cell_type": "markdown",
   "id": "cab48c02",
   "metadata": {},
   "source": [
    "The any type means that the data can belong to any datatype.  Be very careful when using this datatype; it should be avoided at all costs.  Using the any type, may make your code easier to write, but you will lose all benefits of TypeScript.\n",
    "\n",
    "When you don't explicitly declare a type to a variable TS will implicitly assign it to any."
   ]
  },
  {
   "cell_type": "code",
   "execution_count": 106,
   "id": "2305f897",
   "metadata": {
    "scrolled": true
   },
   "outputs": [
    {
     "name": "stdout",
     "output_type": "stream",
     "text": [
      "{ id: \u001b[33m5\u001b[39m, name: \u001b[32m'Ryan'\u001b[39m }\n"
     ]
    }
   ],
   "source": [
    "let typeAny: any; //this variable could be anything\n",
    "\n",
    "typeAny = 'howdy'\n",
    "typeAny = 123\n",
    "typeAny = {id: 5, name: 'Ryan'}"
   ]
  },
  {
   "cell_type": "markdown",
   "id": "c2e627f4",
   "metadata": {},
   "source": [
    "<a id=\"ice7\"></a>\n",
    "\n",
    "## In-Class Exercise #7"
   ]
  },
  {
   "cell_type": "markdown",
   "id": "e5707f53",
   "metadata": {},
   "source": [
    "In the cell below write `I will not use the any type unless absolutely necessary`"
   ]
  },
  {
   "cell_type": "code",
   "execution_count": null,
   "id": "d7fca1f1",
   "metadata": {},
   "outputs": [],
   "source": [
    "//I will not use the any type unless absolutley necessary "
   ]
  },
  {
   "cell_type": "markdown",
   "id": "99d1b767",
   "metadata": {},
   "source": [
    "<a id=\"tuples\"></a>\n",
    "\n",
    "### Tuples"
   ]
  },
  {
   "cell_type": "markdown",
   "id": "f88578c3",
   "metadata": {},
   "source": [
    "A Tuple is a fixed length array where each element has a particular type.\n",
    "These are generally used for arrays with only 2 pieces of information, as they quickly become hard to read and manage."
   ]
  },
  {
   "cell_type": "code",
   "execution_count": 112,
   "id": "360cd15d",
   "metadata": {},
   "outputs": [
    {
     "name": "stdout",
     "output_type": "stream",
     "text": [
      "[ \u001b[33m1\u001b[39m, \u001b[32m'Nike Shoes'\u001b[39m ]\n"
     ]
    }
   ],
   "source": [
    "//not a true tuple type but we can use arrays to make tuples\n",
    "let product: [number, string]\n",
    "product = [1, 'Nike Shoes']"
   ]
  },
  {
   "cell_type": "code",
   "execution_count": 108,
   "id": "788abb8c",
   "metadata": {},
   "outputs": [
    {
     "name": "stderr",
     "output_type": "stream",
     "text": [
      "2:12 - Type 'string' is not assignable to type 'number'.\n",
      "2:26 - Type 'number' is not assignable to type 'string'.\n"
     ]
    }
   ],
   "source": [
    "//Error\n",
    "product = ['Nike Shoes', 1]"
   ]
  },
  {
   "cell_type": "code",
   "execution_count": 109,
   "id": "8dccef85",
   "metadata": {
    "scrolled": true
   },
   "outputs": [
    {
     "name": "stderr",
     "output_type": "stream",
     "text": [
      "2:1 - Type '[number, string, string]' is not assignable to type '[number, string]'.\n",
      "2:1 - Source has 3 element(s) but target allows only 2.\n"
     ]
    }
   ],
   "source": [
    "//Error\n",
    "product = [1, 'Nike Shoes', 'Red with white laces']"
   ]
  },
  {
   "cell_type": "markdown",
   "id": "9128f768",
   "metadata": {},
   "source": [
    "### ⚠️WARNING⚠️"
   ]
  },
  {
   "cell_type": "markdown",
   "id": "ff126ff1",
   "metadata": {},
   "source": [
    "TypeScript isn't perfect when working with tuples and the push method will work, but this goes against the TS principlas and should never be done."
   ]
  },
  {
   "cell_type": "code",
   "execution_count": 113,
   "id": "9eb96ff9",
   "metadata": {},
   "outputs": [
    {
     "name": "stdout",
     "output_type": "stream",
     "text": [
      "[ \u001b[33m1\u001b[39m, \u001b[32m'Nike Shoes'\u001b[39m, \u001b[32m'Red with white laces'\u001b[39m ]\n"
     ]
    }
   ],
   "source": [
    "// this works but shouldn't!!!\n",
    "product.push('Red with white laces')\n",
    "console.log(product)"
   ]
  },
  {
   "cell_type": "markdown",
   "id": "7b56d713",
   "metadata": {},
   "source": [
    "<a id=\"ice8\"></a>\n",
    "\n",
    "## In-Class Exercise #8"
   ]
  },
  {
   "cell_type": "markdown",
   "id": "b990ba6b",
   "metadata": {},
   "source": [
    "Create an appropriate tuple named `iceTuple` that contains the values `true` `undefined`"
   ]
  },
  {
   "cell_type": "code",
   "execution_count": 115,
   "id": "1c11f6ba",
   "metadata": {},
   "outputs": [
    {
     "name": "stdout",
     "output_type": "stream",
     "text": [
      "[ \u001b[33mtrue\u001b[39m, \u001b[90mundefined\u001b[39m ]\n"
     ]
    }
   ],
   "source": [
    "let iceTuple: [boolean, undefined] = [true, undefined]\n",
    "iceTuple"
   ]
  },
  {
   "cell_type": "markdown",
   "id": "ca2d723a",
   "metadata": {},
   "source": [
    "<a id=\"enum\"></a>\n",
    "\n",
    "### Enum Type"
   ]
  },
  {
   "cell_type": "markdown",
   "id": "7dc8aaa0",
   "metadata": {},
   "source": [
    "Enums are used when there are highly related constants.\n",
    "\n",
    "To create an enum we use the syntax\n",
    "\n",
    "`enum NameOfEnum {key, key, key}`\n",
    "\n",
    "<b>Note: </b> Notice there is no equal sign\n",
    "\n",
    "Enums should be named using PascalCase\n",
    "\n",
    "By default each member of the enums value will be the index position of that value (starts at 0)"
   ]
  },
  {
   "cell_type": "code",
   "execution_count": 117,
   "id": "b7f14972",
   "metadata": {},
   "outputs": [
    {
     "name": "stdout",
     "output_type": "stream",
     "text": [
      "\u001b[33m0\u001b[39m\n"
     ]
    }
   ],
   "source": [
    "//enum similar to enumerating where it creates key/value pairs based on index value unless otherwise noted \n",
    "enum Size {Small, Medium, Large}\n",
    "console.log(Size.Small)"
   ]
  },
  {
   "cell_type": "markdown",
   "id": "93ff7127",
   "metadata": {},
   "source": [
    "We can start at a different number other than 0 by setting a number on the first element.  The following elements value with be incremented by one"
   ]
  },
  {
   "cell_type": "code",
   "execution_count": 118,
   "id": "b80550c1",
   "metadata": {},
   "outputs": [
    {
     "name": "stdout",
     "output_type": "stream",
     "text": [
      "\u001b[33m6\u001b[39m\n"
     ]
    }
   ],
   "source": [
    "enum Size {Small= 5, Medium, Large}\n",
    "console.log(Size.Medium)"
   ]
  },
  {
   "cell_type": "markdown",
   "id": "6e21c3f0",
   "metadata": {},
   "source": [
    "#### Explicitly setting enum values"
   ]
  },
  {
   "cell_type": "markdown",
   "id": "f94a7cb0",
   "metadata": {},
   "source": [
    "We can explicitly set the enum values to other types, but when we do this we must assign every single element a value. "
   ]
  },
  {
   "cell_type": "code",
   "execution_count": 121,
   "id": "1248f0d7",
   "metadata": {},
   "outputs": [
    {
     "name": "stdout",
     "output_type": "stream",
     "text": [
      "L\n"
     ]
    }
   ],
   "source": [
    "//if we give a type other than 'number' have to give all the values because it doesn't know how to increment\n",
    "enum Size {Small='S', Medium='M', Large='L'}\n",
    "console.log(Size.Large)"
   ]
  },
  {
   "cell_type": "code",
   "execution_count": 125,
   "id": "1177da21",
   "metadata": {},
   "outputs": [
    {
     "name": "stdout",
     "output_type": "stream",
     "text": [
      "L\n"
     ]
    }
   ],
   "source": [
    "// We can use our created enum as a type\n",
    "let mySize: Size = Size.Large\n",
    "console.log(mySize)"
   ]
  },
  {
   "cell_type": "markdown",
   "id": "b4159033",
   "metadata": {},
   "source": [
    "<a id=\"ice9\"></a>\n",
    "\n",
    "## In-Class Exercise #9"
   ]
  },
  {
   "cell_type": "markdown",
   "id": "bc84a089",
   "metadata": {},
   "source": [
    "Create an enum type to represent The different football teams that can be on the field.\n",
    "\n",
    "`offense` `defense` and `specialTeams`\n",
    "\n",
    "They should be represented by `O`,`D`, and `ST` respectively\n",
    "\n",
    "name the enum `IceEnum`\n",
    "\n",
    "use the Ice Enum to print `ST O D`"
   ]
  },
  {
   "cell_type": "code",
   "execution_count": 126,
   "id": "059359a1",
   "metadata": {},
   "outputs": [
    {
     "name": "stdout",
     "output_type": "stream",
     "text": [
      "specialTeams\n",
      "offense\n",
      "defense\n"
     ]
    }
   ],
   "source": [
    "enum iceEnum {O = 'offense', D = 'defense', ST = 'specialTeams'}\n",
    "console.log(iceEnum.ST)\n",
    "console.log(iceEnum.O)\n",
    "console.log(iceEnum.D)"
   ]
  },
  {
   "cell_type": "markdown",
   "id": "68b924b1",
   "metadata": {},
   "source": [
    "<a id=\"unknown\"></a>\n",
    "\n",
    "### Unknown Type"
   ]
  },
  {
   "cell_type": "markdown",
   "id": "86c40f67",
   "metadata": {},
   "source": [
    "The Unknown type is similar to the any type, but it will enforce type checking.  In order to use an Unknown type we must use a Type Guard to perform narrowing."
   ]
  },
  {
   "cell_type": "markdown",
   "id": "ae1d1157",
   "metadata": {},
   "source": [
    "#### With any"
   ]
  },
  {
   "cell_type": "markdown",
   "id": "a5750cad",
   "metadata": {},
   "source": [
    "We see here no compilation error, yet the person parameter has no guarentee it has the abilities to walk and talk"
   ]
  },
  {
   "cell_type": "code",
   "execution_count": 127,
   "id": "800b05ff",
   "metadata": {},
   "outputs": [],
   "source": [
    "// build a function using our nemisis 'any' type \n",
    "function myUnknownFunction(person:any) {\n",
    "    person.walk() //we have no idea if this person can walk or talk \n",
    "    person.talk()\n",
    "}"
   ]
  },
  {
   "cell_type": "markdown",
   "id": "94ddf873",
   "metadata": {},
   "source": [
    "#### With Unknown"
   ]
  },
  {
   "cell_type": "markdown",
   "id": "91f02f00",
   "metadata": {},
   "source": [
    "The person parameter is now annotated as unknown and we see we get a compilation error when trying to use this code"
   ]
  },
  {
   "cell_type": "code",
   "execution_count": 128,
   "id": "2e5c4f3e",
   "metadata": {},
   "outputs": [
    {
     "name": "stderr",
     "output_type": "stream",
     "text": [
      "3:12 - Property 'walk' does not exist on type 'unknown'.\n",
      "4:12 - Property 'talk' does not exist on type 'unknown'.\n"
     ]
    }
   ],
   "source": [
    "// build a function using 'any's cousin 'unknown'\n",
    "function myUnknownFunction(person:unknown) {\n",
    "    person.walk() //we have no idea if this person can walk or talk \n",
    "    person.talk()\n",
    "}"
   ]
  },
  {
   "cell_type": "markdown",
   "id": "582187a6",
   "metadata": {},
   "source": [
    "<a id=\"guard\"></a>\n",
    "\n",
    "#### Type Narrowing"
   ]
  },
  {
   "cell_type": "markdown",
   "id": "fbcb069b",
   "metadata": {},
   "source": [
    "To be able to use the unknown type we must first create our <b>Type Guard</b>.  This will narrow down the datatype so you can perform approiate actions.\n",
    "\n",
    "<strong>Note: </strong> This also allows the itellisense to kick in and give suggestions"
   ]
  },
  {
   "cell_type": "code",
   "execution_count": 129,
   "id": "e6bdeb6d",
   "metadata": {
    "scrolled": true
   },
   "outputs": [],
   "source": [
    "// make a simple class with a walk() and talk() method\n",
    "// we can use classes as types\n",
    "class Person{\n",
    "    walk() {console.log('walking')}\n",
    "    talk() {console.log('talking')}\n",
    "}"
   ]
  },
  {
   "cell_type": "code",
   "execution_count": 133,
   "id": "2fd11d83-811a-4533-9741-32a679263851",
   "metadata": {},
   "outputs": [
    {
     "name": "stdout",
     "output_type": "stream",
     "text": [
      "walking\n",
      "talking\n",
      "Unfortunately this person can't walk or talk\n"
     ]
    }
   ],
   "source": [
    "// build function with unkown type but WITH type guarding\n",
    "function myUnknownFunction(person:unknown) {\n",
    "    //type guarding aka narrowing down what type it is\n",
    "    if (person instanceof Person){\n",
    "        person.walk()\n",
    "        person.talk()\n",
    "    } else {\n",
    "        console.log(\"Unfortunately this person can't walk or talk\")\n",
    "    }\n",
    "}\n",
    "\n",
    "let morgan = new Person()\n",
    "myUnknownFunction(morgan) //object Morgan is of type Person (class) \n",
    "myUnknownFunction('Morgan') //string Morgan is not of type Person"
   ]
  },
  {
   "cell_type": "markdown",
   "id": "ee7f9a80",
   "metadata": {},
   "source": [
    "<a id=\"ice10\"></a>\n",
    "\n",
    "## In-Class Exercise #10"
   ]
  },
  {
   "cell_type": "markdown",
   "id": "32d4d413",
   "metadata": {},
   "source": [
    "Create a function that uses an unknown type parameter and implement a type guard.\n",
    "\n",
    "- If the parameter is a number we want the function to return the number sqaured\n",
    "\n",
    "- If the parameter is a string we want the function to return the string in uppercase letters\n",
    "\n",
    "- If the parameter is a boolean we want the function to return \"Its on\" if the boolean is true and \"Its off\" if the boolean is false\n",
    "\n",
    "- If the parameter is of any other type just return the parameter\n",
    "\n",
    "Name the function `iceGuard`\n",
    "\n",
    "Test your function for all 4 use cases"
   ]
  },
  {
   "cell_type": "code",
   "execution_count": 146,
   "id": "a081dc08",
   "metadata": {},
   "outputs": [
    {
     "name": "stdout",
     "output_type": "stream",
     "text": [
      "\u001b[33m25\u001b[39m\n",
      "ALEX\n",
      "It's on\n",
      "It's off\n",
      "\u001b[1mnull\u001b[22m\n"
     ]
    }
   ],
   "source": [
    "function iceGuard(input: unknown) {\n",
    "  if (typeof input === 'number') {\n",
    "    return input * input; \n",
    "  }  \n",
    "  if (typeof input === 'string') {\n",
    "    return input.toUpperCase(); \n",
    "  }\n",
    "  if (typeof input === 'boolean') {\n",
    "    return input ? \"It's on\" : \"It's off\"; //terinary \n",
    "  }\n",
    "  return input;\n",
    "}\n",
    "\n",
    "console.log(iceGuard(5)) //this is number so it gets squared\n",
    "console.log(iceGuard('alex')) //string so all uppercase\n",
    "console.log(iceGuard(true)) //boolean so additional check to see if its a truesy value then return 'its on' else 'its off' \n",
    "console.log(iceGuard(false))\n",
    "console.log(iceGuard(null))"
   ]
  },
  {
   "cell_type": "markdown",
   "id": "666d1721",
   "metadata": {},
   "source": [
    "<a id=\"never\"></a>\n",
    "\n",
    "## Never Type"
   ]
  },
  {
   "cell_type": "markdown",
   "id": "52835f17",
   "metadata": {},
   "source": [
    "This is a rarely used Type, and generally used as a return type from a function.\n",
    "\n",
    "The never type is used to denote that a function never returns.  This means the function runs infintely, like a web server.\n",
    "\n",
    "I recommend not invoking (calling) the `myNeverFunction` as it is an in\n",
    "finite loop and may crash your notebook.  The example is to show you the use of `never`"
   ]
  },
  {
   "cell_type": "code",
   "execution_count": 149,
   "id": "e95db644",
   "metadata": {},
   "outputs": [],
   "source": [
    "\n",
    "// never type is usually for functions that run indefinitely like functions that start web servers. \n",
    "function myNeverFunction():never {\n",
    "    \n",
    "    while (true) {\n",
    "        console.log('in the infinite void')\n",
    "    }\n",
    "}\n",
    "\n",
    "// myNeverFunction()\n"
   ]
  },
  {
   "cell_type": "markdown",
   "id": "a0920209",
   "metadata": {},
   "source": [
    "<a id=\"obj\"></a>\n",
    "\n",
    "# Objects and TS"
   ]
  },
  {
   "cell_type": "markdown",
   "id": "6f18241a",
   "metadata": {},
   "source": [
    "Object are a built-in type from JS, but working with them in TS can be a little different we will go over a few ways to work with Objects in TS."
   ]
  },
  {
   "cell_type": "markdown",
   "id": "9b73a177",
   "metadata": {},
   "source": [
    "When declaring an Object TS will implictly force your object to maintain its \"shape\".  This means you can not dynamically add properties to your objects like you can in JS, and when you change a property is has to have the correct datatype.\n",
    "\n",
    "When we talk about the \"shape\" of an object we are talking about is keys, types, and methods."
   ]
  },
  {
   "cell_type": "code",
   "execution_count": 153,
   "id": "88ebf090",
   "metadata": {},
   "outputs": [
    {
     "name": "stderr",
     "output_type": "stream",
     "text": [
      "8:1 - Type 'string' is not assignable to type 'number'.\n"
     ]
    }
   ],
   "source": [
    "// a contract on what the shape of this object/dictionary looks like \n",
    "let student1 = {\n",
    "    id: 1\n",
    "}\n",
    "\n",
    "//in TypeScript I can't add key/value pairs that arent apart of the original \"shape\"\n",
    "// student1.name = 'Alfonzo'\n",
    "student1.id = 5 // can do because 5 is a number type\n",
    "\n",
    "//Error because name:string is not part of our shape"
   ]
  },
  {
   "cell_type": "code",
   "execution_count": 155,
   "id": "a2dc55dd",
   "metadata": {},
   "outputs": [
    {
     "name": "stdout",
     "output_type": "stream",
     "text": [
      "Jenny\n"
     ]
    }
   ],
   "source": [
    "// implicityly declaring our types by way of our variables\n",
    "let student2 = { id: 2, name: 'Jane' }\n",
    "student2.name = 'Jenny' //name is a part of the original shape of student2"
   ]
  },
  {
   "cell_type": "code",
   "execution_count": 162,
   "id": "5fb6589e",
   "metadata": {},
   "outputs": [
    {
     "name": "stdout",
     "output_type": "stream",
     "text": [
      "John\n"
     ]
    }
   ],
   "source": [
    "// explicity declare types\n",
    "//this is declaring the type but not the value \n",
    "let student: { id: number, name: string } //arming our variable so its declared but not yet defined \n",
    "\n",
    "student = { id: 5, name: 'Jose'} // student is now declared as a dictionary/object\n",
    "\n",
    "student.id = 6 //student is undefined\n",
    "student.name = 'John' //student is undefined"
   ]
  },
  {
   "cell_type": "code",
   "execution_count": 163,
   "id": "b2b85d43",
   "metadata": {},
   "outputs": [
    {
     "name": "stderr",
     "output_type": "stream",
     "text": [
      "2:1 - Type 'number' is not assignable to type 'string'.\n"
     ]
    }
   ],
   "source": [
    "//error\n",
    "student.name = 555 //needs to adhere to the original state/shape "
   ]
  },
  {
   "cell_type": "markdown",
   "id": "0a7da4c1",
   "metadata": {},
   "source": [
    "<a id=\"type\"></a>\n",
    "\n",
    "## Type Aliases"
   ]
  },
  {
   "cell_type": "markdown",
   "id": "2a7aff0b",
   "metadata": {},
   "source": [
    "The above way to work with objects is a bit cumbersome.  There is an easier way using a type alias, which allows you to predefine the shape and reuse this shape.\n",
    "\n",
    "The type's name should be written in PascalCase"
   ]
  },
  {
   "cell_type": "code",
   "execution_count": 173,
   "id": "114b13c6",
   "metadata": {},
   "outputs": [],
   "source": [
    "// type aliases allow us to create our own type and reuse that type \n",
    "// with the above way if i wanted to create another student\n",
    "// let student2: : { id: number, name: string } we'd have to do this for every student\n",
    "\n",
    "// instead why don't we create a custom type\n",
    "type Student = { id: number, name: string, occupation: string, age: number } \n",
    "\n"
   ]
  },
  {
   "cell_type": "code",
   "execution_count": 174,
   "id": "91a7ee24",
   "metadata": {},
   "outputs": [
    {
     "name": "stderr",
     "output_type": "stream",
     "text": [
      "1:5 - Type '{ id: number; name: string; }' is missing the following properties from type 'Student': occupation, age\n"
     ]
    }
   ],
   "source": [
    "let student1: Student = {id: 1, name: 'Ryan', occupation: 'badass', age: 32}\n",
    "let student2: Student = {id: 2, name: 'Alex', occupation: 'bosshuman', age: 32}"
   ]
  },
  {
   "cell_type": "code",
   "execution_count": 166,
   "id": "083ebce0",
   "metadata": {},
   "outputs": [
    {
     "name": "stdout",
     "output_type": "stream",
     "text": [
      "Ryan\n"
     ]
    }
   ],
   "source": [
    "console.log(student1.name)"
   ]
  },
  {
   "cell_type": "code",
   "execution_count": 168,
   "id": "9df43d34",
   "metadata": {},
   "outputs": [
    {
     "name": "stdout",
     "output_type": "stream",
     "text": [
      "\u001b[33m2\u001b[39m\n"
     ]
    }
   ],
   "source": [
    "console.log(student2.id)"
   ]
  },
  {
   "cell_type": "markdown",
   "id": "02817f40",
   "metadata": {},
   "source": [
    "<a id=\"ice12\"></a>\n",
    "\n",
    "## In-Class Exercise #11"
   ]
  },
  {
   "cell_type": "markdown",
   "id": "3322bc7a",
   "metadata": {},
   "source": [
    "Define the type for an our iceMan we made in the last example and name the type `IceManType`  Then create 3 iceMen called `iceMan1` `iceman2` and `iceMan3`.\n",
    "\n",
    "Ice man should have:\n",
    "\n",
    "- a id that is a number\n",
    "\n",
    "- a name that is a string\n",
    "\n",
    "- a wasFrozen property that is a boolean on whether or not our iceMan was ever frozen in time"
   ]
  },
  {
   "cell_type": "code",
   "execution_count": 177,
   "id": "11fc2916",
   "metadata": {},
   "outputs": [],
   "source": [
    "type WhereIsMySuperSuit = {\n",
    "  id: number;\n",
    "  name: string;\n",
    "  superSuit: boolean;\n",
    "};\n",
    "\n",
    "\n",
    "let supersuit1: WhereIsMySuperSuit = {id: 1, name: 'Scooba Steve', superSuit: true}\n",
    "\n",
    "\n",
    "let iceMan2: WhereIsMySuperSuit = {\n",
    "  id: 2,\n",
    "  name: \"Frozone\",\n",
    "  superSuit: false,\n",
    "};"
   ]
  },
  {
   "cell_type": "markdown",
   "id": "10b7ff08",
   "metadata": {},
   "source": [
    "<a id=\"readonly\"></a>\n",
    "\n",
    "#### readonly"
   ]
  },
  {
   "cell_type": "markdown",
   "id": "cf1387b6",
   "metadata": {},
   "source": [
    "Sometime there are properties of an object that should never change, for instance an id should never be changed.  This rule can be enforced with the `readonly` keyword"
   ]
  },
  {
   "cell_type": "code",
   "execution_count": 179,
   "id": "8dff2ae7",
   "metadata": {},
   "outputs": [],
   "source": [
    "// when you want a key/value pair to only be able to be set once\n",
    "\n",
    "type StudentRO = {\n",
    "    readonly id:number,\n",
    "    name: string\n",
    "}"
   ]
  },
  {
   "cell_type": "code",
   "execution_count": 182,
   "id": "224e1d6a",
   "metadata": {},
   "outputs": [],
   "source": [
    "let student1: StudentRO = {id: 1, name: 'Justin' }"
   ]
  },
  {
   "cell_type": "code",
   "execution_count": 183,
   "id": "0a00829c",
   "metadata": {},
   "outputs": [
    {
     "name": "stderr",
     "output_type": "stream",
     "text": [
      "1:10 - Cannot assign to 'id' because it is a read-only property.\n"
     ]
    }
   ],
   "source": [
    "student1.id = 2"
   ]
  },
  {
   "cell_type": "markdown",
   "id": "f8665c3d",
   "metadata": {},
   "source": [
    "<a id=\"opt\"></a>\n",
    "\n",
    "#### Optional fields"
   ]
  },
  {
   "cell_type": "markdown",
   "id": "02369f88",
   "metadata": {},
   "source": [
    "Sometime you also have fields that should be optional, and not required to add in, like a Fax Number or Address Line 2.  This can be denoted using the `?`"
   ]
  },
  {
   "cell_type": "code",
   "execution_count": 186,
   "id": "5d1286b0",
   "metadata": {},
   "outputs": [],
   "source": [
    "type StudentOF = {\n",
    "    readonly id: number,\n",
    "    name: string,\n",
    "    occupation?: string,\n",
    "    age?: number\n",
    "}"
   ]
  },
  {
   "cell_type": "code",
   "execution_count": 187,
   "id": "3be51bc1",
   "metadata": {},
   "outputs": [],
   "source": [
    "let student2: StudentOF = {id: 1, name: 'Liz'}"
   ]
  },
  {
   "cell_type": "code",
   "execution_count": 191,
   "id": "8e9bdb86",
   "metadata": {},
   "outputs": [],
   "source": [
    "let studnet3: StudentOF = {id: 2, name: 'Justin', age: 34, occupation: 'future senior programmer' }\n",
    "let student4: StudentOF = {id: 3, name: 'William', age: 33, occupation: 'Hooters' }\n"
   ]
  },
  {
   "cell_type": "markdown",
   "id": "19248947",
   "metadata": {},
   "source": [
    "<a id=\"objmeth\"></a>\n",
    "\n",
    "#### methods"
   ]
  },
  {
   "cell_type": "markdown",
   "id": "247fa926",
   "metadata": {},
   "source": [
    "Types can also include methods that should be implemented."
   ]
  },
  {
   "cell_type": "code",
   "execution_count": 193,
   "id": "24e1581d",
   "metadata": {},
   "outputs": [],
   "source": [
    "type StudentMethod = {\n",
    "    readonly id: number,\n",
    "    name: string,\n",
    "    occupation?: string,\n",
    "    age?: number,\n",
    "    sayHello: (name:string) => string\n",
    "}"
   ]
  },
  {
   "cell_type": "code",
   "execution_count": 202,
   "id": "20ce4d15",
   "metadata": {},
   "outputs": [],
   "source": [
    "let student5: StudentMethod = { id: 5, name: 'Morgan', sayHello: (name: string):string => { return `Hello there ${name}`} }"
   ]
  },
  {
   "cell_type": "code",
   "execution_count": 203,
   "id": "0b833227",
   "metadata": {},
   "outputs": [
    {
     "name": "stdout",
     "output_type": "stream",
     "text": [
      "Hello there Justin\n"
     ]
    }
   ],
   "source": [
    "student5.sayHello('Justin')"
   ]
  },
  {
   "cell_type": "markdown",
   "id": "682bf826",
   "metadata": {},
   "source": [
    "<a id=\"ice13\"></a>\n",
    "\n",
    "## In-Class Exercise #12"
   ]
  },
  {
   "cell_type": "markdown",
   "id": "8ac638db",
   "metadata": {},
   "source": [
    "Create a type `IceShoeType` and 1 member of this type `iceShoe`\n",
    "\n",
    "all IceProducts must meet the following requirements\n",
    "\n",
    "- has readonly id field\n",
    "- has size (i.e. 7, 8, 11)\n",
    "- has a name\n",
    "- has an Optional value to describe if is the product has a wide version\n",
    "- has a description"
   ]
  },
  {
   "cell_type": "code",
   "execution_count": 205,
   "id": "a2fb8b7a",
   "metadata": {},
   "outputs": [],
   "source": [
    "enum Size {Sm = 7, Md, Lg}\n",
    "\n",
    "type IceShoeType = {\n",
    "    readonly id: number,\n",
    "    size: Size,\n",
    "    name: string,\n",
    "    wide?: boolean,\n",
    "    description?: string\n",
    "}"
   ]
  },
  {
   "cell_type": "code",
   "execution_count": 207,
   "id": "05b30fb7-a878-412a-877e-43e295e729e7",
   "metadata": {},
   "outputs": [
    {
     "name": "stdout",
     "output_type": "stream",
     "text": [
      "\u001b[33m7\u001b[39m\n"
     ]
    }
   ],
   "source": [
    "let iceShoe: IceShoeType = {id: 1, size: Size.Sm, name: 'Ice Shoe', wide: true }\n",
    "\n",
    "console.log(iceShoe.size)"
   ]
  },
  {
   "cell_type": "markdown",
   "id": "6910bed6",
   "metadata": {},
   "source": [
    "<a id=\"union\"></a>\n",
    "\n",
    "### Union Types"
   ]
  },
  {
   "cell_type": "markdown",
   "id": "0876547e",
   "metadata": {},
   "source": [
    "We can assign a variable multiple types, instead of just one.  This is great when the value could have multiple datatype.   This is done with the union operator `|` which is the pipe key"
   ]
  },
  {
   "cell_type": "code",
   "execution_count": 208,
   "id": "75cc3c91",
   "metadata": {},
   "outputs": [],
   "source": [
    "// union types allow us to assign multiple types\n",
    "\n",
    "let multipleTypes: string | number | null "
   ]
  },
  {
   "cell_type": "code",
   "execution_count": 209,
   "id": "3271e1b5",
   "metadata": {},
   "outputs": [
    {
     "name": "stdout",
     "output_type": "stream",
     "text": [
      "a String\n"
     ]
    }
   ],
   "source": [
    "multipleTypes = 'a String'"
   ]
  },
  {
   "cell_type": "code",
   "execution_count": 210,
   "id": "43eac0ac",
   "metadata": {},
   "outputs": [
    {
     "name": "stdout",
     "output_type": "stream",
     "text": [
      "\u001b[33m5\u001b[39m\n"
     ]
    }
   ],
   "source": [
    "multipleTypes = 5\n"
   ]
  },
  {
   "cell_type": "code",
   "execution_count": 211,
   "id": "d500a096",
   "metadata": {
    "scrolled": true
   },
   "outputs": [],
   "source": [
    "multipleTypes = null"
   ]
  },
  {
   "cell_type": "code",
   "execution_count": 212,
   "id": "a3326e15-a91e-4563-95af-ba152bc19aa9",
   "metadata": {},
   "outputs": [
    {
     "name": "stderr",
     "output_type": "stream",
     "text": [
      "1:1 - Type 'boolean' is not assignable to type 'string | number'.\n"
     ]
    }
   ],
   "source": [
    "multipleTypes = true"
   ]
  },
  {
   "cell_type": "markdown",
   "id": "bde30263",
   "metadata": {},
   "source": [
    "#### Union Types with Function"
   ]
  },
  {
   "cell_type": "markdown",
   "id": "f43afc07",
   "metadata": {},
   "source": [
    "We using a union type for parameters, one must enable a <b>type guard</b>"
   ]
  },
  {
   "cell_type": "code",
   "execution_count": 214,
   "id": "dcb3e21a",
   "metadata": {},
   "outputs": [],
   "source": [
    "function inchestoCm(length: string | number): number {\n",
    "    if (typeof length === 'string') {\n",
    "        return parseFloat(length) * 2.54\n",
    "    }\n",
    "    else {\n",
    "        return length * 2.54\n",
    "    }\n",
    "}"
   ]
  },
  {
   "cell_type": "code",
   "execution_count": 215,
   "id": "b4085ec1",
   "metadata": {},
   "outputs": [
    {
     "name": "stdout",
     "output_type": "stream",
     "text": [
      "\u001b[33m15.24\u001b[39m\n"
     ]
    }
   ],
   "source": [
    "inchestoCm('6')"
   ]
  },
  {
   "cell_type": "code",
   "execution_count": 216,
   "id": "3e0cce35",
   "metadata": {},
   "outputs": [
    {
     "name": "stdout",
     "output_type": "stream",
     "text": [
      "\u001b[33m15.24\u001b[39m\n"
     ]
    }
   ],
   "source": [
    "inchestoCm(6)"
   ]
  },
  {
   "cell_type": "markdown",
   "id": "a3c0aa4a",
   "metadata": {},
   "source": [
    "<a id=\"ice14\"></a>\n",
    "\n",
    "## In-Class Exercise #13"
   ]
  },
  {
   "cell_type": "markdown",
   "id": "e9cdb24a",
   "metadata": {},
   "source": [
    "Create a function that takes one parameter that can be either a boolean or a string.  Using a type guard have the function return back the boolean or have it return true/false if the string starts with a `\"c\" or \"C\"`\n",
    "\n",
    "Be sure to use type annonations to enforce your parameter types and the functions return type\n",
    "\n",
    "Name the function `ice13`"
   ]
  },
  {
   "cell_type": "code",
   "execution_count": 227,
   "id": "fd9ac130",
   "metadata": {},
   "outputs": [],
   "source": [
    "function ice13(param: boolean | string):boolean {\n",
    "    \n",
    "    if (typeof param === 'boolean') {\n",
    "        return param\n",
    "    } else {\n",
    "        return param.toLowerCase().startsWith('c') \n",
    "    }\n",
    "}"
   ]
  },
  {
   "cell_type": "code",
   "execution_count": 228,
   "id": "5d6d1058-cc4f-425e-9f42-3fb5e07b3d12",
   "metadata": {},
   "outputs": [
    {
     "name": "stdout",
     "output_type": "stream",
     "text": [
      "\u001b[33mtrue\u001b[39m\n"
     ]
    }
   ],
   "source": [
    "ice13('Cucumber')"
   ]
  },
  {
   "cell_type": "markdown",
   "id": "31a7246b",
   "metadata": {},
   "source": [
    "<a id=\"as\"></a>\n",
    "\n",
    "### As Keyword"
   ]
  },
  {
   "cell_type": "markdown",
   "id": "d0235ad0",
   "metadata": {},
   "source": [
    "The `as` keyword tells Typescript to treat a variable like its a member of a certain type.\n",
    "\n",
    "You can solve many problems using `as any`, but this is considered bad practice and should be avoided"
   ]
  },
  {
   "cell_type": "code",
   "execution_count": 230,
   "id": "512771c0",
   "metadata": {},
   "outputs": [],
   "source": [
    "//looking for a value in an array\n",
    "\n",
    "function lookInto(arr: string[], value: string | number):boolean {\n",
    "    \n",
    "    return arr.includes(value as string) //value could be a string or a number and we are searching in an array full of strings\n",
    "}\n",
    "\n"
   ]
  },
  {
   "cell_type": "code",
   "execution_count": 231,
   "id": "0c7d2149",
   "metadata": {
    "tags": []
   },
   "outputs": [
    {
     "name": "stdout",
     "output_type": "stream",
     "text": [
      "\u001b[33mtrue\u001b[39m\n"
     ]
    }
   ],
   "source": [
    "lookInto(['Pyton', 'SQL', 'JavaScript', 'TypeScript'], 'TypeScript')"
   ]
  },
  {
   "cell_type": "code",
   "execution_count": 232,
   "id": "5b6c58c4-a16c-48bc-90bb-098ae444326e",
   "metadata": {},
   "outputs": [
    {
     "name": "stdout",
     "output_type": "stream",
     "text": [
      "\u001b[33mfalse\u001b[39m\n"
     ]
    }
   ],
   "source": [
    "lookInto(['1', 'a string', '7', 'eleven'], 7) //treating it as a string but the value 7 as a number does not exist in the array"
   ]
  },
  {
   "cell_type": "markdown",
   "id": "64c82958",
   "metadata": {},
   "source": [
    "<a id=\"intersec\"></a>\n",
    "\n",
    "### Intersection Types"
   ]
  },
  {
   "cell_type": "markdown",
   "id": "0fb6adaa",
   "metadata": {},
   "source": [
    "We can make new types by combining old types using an intersection and the `&`\n",
    "\n",
    "<b>Note: </b> Two types can be combined if they don't share a common key with different type.  So that means both types can have an id field as long as the id field is defined as the same type (say number) in both original classes"
   ]
  },
  {
   "cell_type": "code",
   "execution_count": 235,
   "id": "70d0e19c",
   "metadata": {},
   "outputs": [],
   "source": [
    "// Intersection uses the &, Union type uses | \n",
    "\n",
    "type Car = {\n",
    "    make: string,\n",
    "    model: string,\n",
    "    year: number,\n",
    "    doors: number\n",
    "}\n",
    "\n",
    "\n",
    "\n",
    "\n",
    "type Truck = { \n",
    "    make: string,\n",
    "    model: string,\n",
    "    year: number,\n",
    "    doors: number,\n",
    "    truckbedSize?: string \n",
    "}"
   ]
  },
  {
   "cell_type": "code",
   "execution_count": 237,
   "id": "3096d301",
   "metadata": {
    "scrolled": true
   },
   "outputs": [],
   "source": [
    "type Vehicle = Car & Truck //almost like Type Inheritance\n",
    "\n",
    "let myVehicle: Vehicle = {\n",
    "    make: 'Suburu',\n",
    "    model: 'Outback',\n",
    "    year: 2020,\n",
    "    doors: 4\n",
    "\n",
    "}"
   ]
  },
  {
   "cell_type": "code",
   "execution_count": 238,
   "id": "d6236e17-709f-4509-8936-4add1108dd79",
   "metadata": {},
   "outputs": [],
   "source": [
    "let myVehicle: Vehicle = {\n",
    "    make: 'Toyota',\n",
    "    model: 'Tacoma',\n",
    "    year: 2020,\n",
    "    doors: 4,\n",
    "    truckbedSize: '7 x 5'\n",
    "\n",
    "}"
   ]
  },
  {
   "cell_type": "markdown",
   "id": "7d0f6e34",
   "metadata": {},
   "source": [
    "<a id=\"ice15\"></a>\n",
    "\n",
    "## In-Class Exercise #14"
   ]
  },
  {
   "cell_type": "markdown",
   "id": "a0d07411",
   "metadata": {},
   "source": [
    "Create two types and then create a 3rd type from those first two type.\n",
    "\n",
    "IceUser:\n",
    "\n",
    "- firstName\n",
    "- lastName\n",
    "- age\n",
    "\n",
    "IceCustomer:\n",
    "- cart (array of strings)\n",
    "- address (string)\n",
    "\n",
    "\n",
    "IceComplete:\n",
    "- Combination of IceCustomer and IceUser\n",
    "\n",
    "Also Create an IceComplete Object named `icedOver`\n"
   ]
  },
  {
   "cell_type": "code",
   "execution_count": null,
   "id": "f77e9434",
   "metadata": {},
   "outputs": [],
   "source": []
  },
  {
   "cell_type": "markdown",
   "id": "50de75ca",
   "metadata": {},
   "source": [
    "<a id=\"literal\"></a>\n",
    "\n",
    "### Literal Types"
   ]
  },
  {
   "cell_type": "markdown",
   "id": "17539510",
   "metadata": {},
   "source": [
    "A Literal type works kind of like an enum type.  You can set the possible values are variable takes by assigning it a value and chaining all posible values with the `|`"
   ]
  },
  {
   "cell_type": "code",
   "execution_count": 239,
   "id": "c76e9792",
   "metadata": {},
   "outputs": [
    {
     "name": "stderr",
     "output_type": "stream",
     "text": [
      "4:1 - Type '25' is not assignable to type '100'.\n"
     ]
    }
   ],
   "source": [
    "// This is useless\n",
    "\n",
    "let literalType: 100\n",
    "literalType = 25"
   ]
  },
  {
   "cell_type": "code",
   "execution_count": 241,
   "id": "1ad13361",
   "metadata": {},
   "outputs": [
    {
     "name": "stdout",
     "output_type": "stream",
     "text": [
      "\u001b[33m75\u001b[39m\n"
     ]
    }
   ],
   "source": [
    "// use union & literal type in conjunciton\n",
    "let literalType: 25 | 50 | 75 | 100\n",
    "literalType = 25\n",
    "literalType = 75"
   ]
  },
  {
   "cell_type": "markdown",
   "id": "498945b5",
   "metadata": {},
   "source": [
    "We can even define the options as its own type."
   ]
  },
  {
   "cell_type": "code",
   "execution_count": 243,
   "id": "6c2a9404",
   "metadata": {},
   "outputs": [],
   "source": [
    "type Color = 'red' | 'green' | 'blue'"
   ]
  },
  {
   "cell_type": "code",
   "execution_count": 246,
   "id": "4949d9b7",
   "metadata": {},
   "outputs": [],
   "source": [
    "let myColor: Color = 'green'"
   ]
  },
  {
   "cell_type": "markdown",
   "id": "a38244ca",
   "metadata": {},
   "source": [
    "<a id=\"nnao\"></a>\n",
    "\n",
    "### Non-null assertion operator"
   ]
  },
  {
   "cell_type": "markdown",
   "id": "6d2e35b3",
   "metadata": {},
   "source": [
    "The non-null assertion operator is used to postfix variables to tell TypeScript that the variable can not be null even thought TypeScript may think that it could be null.  Good practice states this should not be used when the variable could actually be null, and only when TypeScript can't infer that the null type has been ruled out\n",
    "\n",
    "\n",
    "TypeScript has a .tsconfig file (uneditabled in this jupyter notebook) that allows use to turn some of the TypeScript rules on or off (more on this later).  For the following example we want strictNullChecks option turned on (set to true)  This can not be done in this notebook, so check out this example of TypeScript Playground:\n",
    "\n",
    "https://www.typescriptlang.org/play?&install-plugin=@structured-types/playground-plugin#code/PTAqAsFMAIBcGcDGB7AdgMwJYHNrgIbzTySyyaq4BE8sATporAHICuANuwMJSIDW8KgC44dVpAA0AKBlT0rVE0xpoAN3ztMAE3yxIAZXKUAFDtj4A-CNoNKAHwVbIWVJC13UHdgEpoAbyloIOgQaB5IfgpcWGRiSBhYKGgzfGhMIk9OaGQ6aEdnCjdA4Mx0aFNdVIBeGuhM9mg7O2TK6BqqvNQnFzdvAOCBuHA6ZAB3OshxgFE6EbpjAHIYRHxUVGRYaAAjGHqF72KggF9i4pOg+UVyFQAHEcRIeHgp1HJYAE8K8ytieiiHLoFVzueq+frBdSaMwGIzYL74A4DUIpaArVATVSQXL4JisDTsd7bXZebK5fI9LRBQ4hYBElasEhDGB3SCqAB00EuShUo2QHEpMzm2VYsFOSLA7xuBkQDBum3SnXwW3YCViFHQWKGuha5lRqzqGyJdRJOU63UKlOpoXgsVGMBIMFSKAAtjdMOxdMp0Vi5mLgirNkQOik2TEADJjLFcQiQYy+P1W2mgWJYAAeQwVdryjMSuzQAFp6tBCCQ6Nd0cgpXRdDlE9AA8Q2jr8ABCUPICN2ujRkhxhPHYp3ZAPJ4vN6fbxAA\n",
    "\n",
    "\n"
   ]
  },
  {
   "cell_type": "markdown",
   "id": "3a4711e9",
   "metadata": {},
   "source": [
    "<a id=\"hw\"></a>\n",
    "\n",
    "# Homework"
   ]
  },
  {
   "cell_type": "markdown",
   "id": "4d47fea9",
   "metadata": {},
   "source": [
    "#### Question #1"
   ]
  },
  {
   "cell_type": "markdown",
   "id": "a9e8d7cb",
   "metadata": {},
   "source": [
    "Create a type to represent the following instances of `CTStudent` Also declare three 3 students below as type `CTStudent` and set their values\n",
    "\n",
    "```\n",
    "let student1 = {\n",
    "    id: 'GMK435&g62L00',\n",
    "    name: 'John Smith',\n",
    "    age: 24,\n",
    "    isTired: true,\n",
    "    projectsCompleted:[\"HTML Portfolio\", \"Fakebook\", \"Pokemon API Project\", \"Weather Bug\"],\n",
    "    pet: 'dog'\n",
    "}\n",
    "\n",
    "let student2= {\n",
    "    id: '6KGS%54GmlY76',\n",
    "    name: 'Jenny Hawthorne',\n",
    "    age: 28,\n",
    "    isTired: false,\n",
    "    projectsCompleted:[\"HTML Portfolio\"],\n",
    "}\n",
    "\n",
    "let student3 = {\n",
    "    id: '6KGS%54GmlY76',\n",
    "    name: 'Neo',\n",
    "    age: 57,\n",
    "    isTired: true,\n",
    "    projectsCompleted:[\"Matrix\",\"Biological Interface Program\"],\n",
    "    pet:'cat'\n",
    "}\n",
    "```"
   ]
  },
  {
   "cell_type": "code",
   "execution_count": null,
   "id": "c73d5ef8",
   "metadata": {},
   "outputs": [],
   "source": [
    "//Answer\n"
   ]
  },
  {
   "cell_type": "markdown",
   "id": "4f55579f",
   "metadata": {},
   "source": [
    "#### Question #2"
   ]
  },
  {
   "cell_type": "markdown",
   "id": "3b36ab99",
   "metadata": {},
   "source": [
    "Write a function that will accept a an object of type `Fruit`, the object of type Fruit could also be `null`.  If their is a Fruit print the color of the fruit, otherwise print `You ate my fruit already` be sure to annoate the return type of the function"
   ]
  },
  {
   "cell_type": "code",
   "execution_count": null,
   "id": "d0723c22",
   "metadata": {},
   "outputs": [],
   "source": [
    "//Given\n",
    "type Fruit={\n",
    "    color:string,\n",
    "    shape:string\n",
    "}\n",
    "\n",
    "let apple:Fruit={color:\"red\", shape:\"sphere\"}\n",
    "let eaten:Fruit=null\n",
    "\n",
    "//Answer"
   ]
  },
  {
   "cell_type": "markdown",
   "id": "c779e6ce",
   "metadata": {},
   "source": [
    "#### Question #3"
   ]
  },
  {
   "cell_type": "markdown",
   "id": "754ad305",
   "metadata": {},
   "source": [
    "Create a Union Type named `Ebook` for `Book` and `DigitalBook` and create one instance of the new union type"
   ]
  },
  {
   "cell_type": "code",
   "execution_count": null,
   "id": "a2fe8468",
   "metadata": {},
   "outputs": [],
   "source": [
    "//Given \n",
    "type Book={\n",
    "    isbn:string,\n",
    "    title:string,\n",
    "    author:string\n",
    "}\n",
    "\n",
    "type DigitalBook={\n",
    "    fileType:string,\n",
    "}\n",
    "\n",
    "//Answer\n"
   ]
  },
  {
   "cell_type": "markdown",
   "id": "ff5b6cd0",
   "metadata": {},
   "source": [
    "#### Question #4"
   ]
  },
  {
   "cell_type": "markdown",
   "id": "2d47d040",
   "metadata": {},
   "source": [
    "Create a Type to represent a `ShopItem` that will fit the following rules. You may need to create additional structures\n",
    "\n",
    "- All ShopItems have an numeric id that can not be edited \n",
    "- All ShopItems have a price\n",
    "- All ShopItems have a description\n",
    "- Some ShopItems have a color\n",
    "- All ShopItems have a Category represented with an enum \n",
    "    - Possible Categories are `Shirts` `Shoes` `Pants` `Hats`\n",
    "- All ShopItems have a list of keywords used to help search for the ShopItem \n",
    "    - For Example A Ironman Tshirt may have keywords = [\"Marvel\", \"Endgame\", \"Ironman\",\"Character Tees\", \"Tony Stark\"]\n",
    "\n",
    "After Creating the `ShopItem` type create 3 items using this type"
   ]
  },
  {
   "cell_type": "code",
   "execution_count": null,
   "id": "157b9a0d",
   "metadata": {},
   "outputs": [],
   "source": [
    "\n",
    "\n",
    "\n",
    "\n",
    "\n",
    "\n",
    "\n",
    "\n",
    "\n",
    "\n",
    "\n",
    "\n",
    "\n",
    "\n",
    "\n",
    "\n",
    "\n",
    "\n",
    "\n",
    "\n",
    "\n"
   ]
  }
 ],
 "metadata": {
  "kernelspec": {
   "display_name": "TypeScript",
   "language": "typescript",
   "name": "tslab"
  },
  "language_info": {
   "codemirror_mode": {
    "mode": "typescript",
    "name": "javascript",
    "typescript": true
   },
   "file_extension": ".ts",
   "mimetype": "text/typescript",
   "name": "typescript",
   "version": "3.7.2"
  }
 },
 "nbformat": 4,
 "nbformat_minor": 5
}
